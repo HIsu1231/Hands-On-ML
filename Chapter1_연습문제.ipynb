{
  "nbformat": 4,
  "nbformat_minor": 0,
  "metadata": {
    "colab": {
      "name": "Chapter1_연습문제.ipynb",
      "provenance": [],
      "collapsed_sections": [],
      "authorship_tag": "ABX9TyPdPdAC2CEc8cEofD0uL2q5",
      "include_colab_link": true
    },
    "kernelspec": {
      "name": "python3",
      "display_name": "Python 3"
    }
  },
  "cells": [
    {
      "cell_type": "markdown",
      "metadata": {
        "id": "view-in-github",
        "colab_type": "text"
      },
      "source": [
        "<a href=\"https://colab.research.google.com/github/HIsu1231/Hands-On-ML/blob/main/Chapter1_%EC%97%B0%EC%8A%B5%EB%AC%B8%EC%A0%9C.ipynb\" target=\"_parent\"><img src=\"https://colab.research.google.com/assets/colab-badge.svg\" alt=\"Open In Colab\"/></a>"
      ]
    },
    {
      "cell_type": "markdown",
      "metadata": {
        "id": "Q8BMP_rsfWWn"
      },
      "source": [
        "1. 머신러닝을 어떻게 정의할 수 있나요?\r\n",
        "\r\n",
        "  -> 명시적인 프로그래밍 없이 컴퓨터가 학습하는 능력을 갖추게 하는 연구 분야\r\n"
      ]
    },
    {
      "cell_type": "markdown",
      "metadata": {
        "id": "gXYTh4KefZqF"
      },
      "source": [
        "2. 머신러닝이 도움을 줄 수 있는 문제 유형 네 가지를 말해보세요."
      ]
    },
    {
      "cell_type": "markdown",
      "metadata": {
        "id": "4_rv3Im3ffNy"
      },
      "source": [
        "3. 레이블된 훈련 세트란 무엇인가요?\r\n",
        "\r\n",
        "  -> 각 샘플에 정답 데이터가 포함된 훈련 세트"
      ]
    },
    {
      "cell_type": "markdown",
      "metadata": {
        "id": "6ANdZExWffKu"
      },
      "source": [
        "4. 가장 널리 사용되는 지도 학습 작업 두 가지는 무엇인가요?\r\n",
        "  \r\n",
        "  -> 회귀, 분류 "
      ]
    },
    {
      "cell_type": "markdown",
      "metadata": {
        "id": "D7YTP9VuffG4"
      },
      "source": [
        "5. 보편적인 비지도 학습 작업 네 가지는 무엇인가요?\r\n",
        "\r\n",
        "  -> 군집, 시각화, 차원축소, 연관 규칙 학습"
      ]
    },
    {
      "cell_type": "markdown",
      "metadata": {
        "id": "97t2PfBUffDf"
      },
      "source": [
        "6. 사전 정보가 없는 여러 지형에서 로봇을 걸어가게 하려면 어떤 종류의 머신러닝 알고리즘을 사용할 수 있나요?\r\n",
        "\r\n",
        "  -> 강화학습이 적합. 사전 정보가 없는 여러 지형의 환경을 학습해서 행동을 실행 (걸어가게 함)"
      ]
    },
    {
      "cell_type": "markdown",
      "metadata": {
        "id": "3YMjiTXgfe6P"
      },
      "source": [
        "7. 고객을 여러 그룹으로 분할하려면 어떤 알고리즘을 사용해야 하나요?\r\n",
        "\r\n",
        "  -> 그룹의 종류를 모른다면 비슷한 고객끼리 나누는 군집 알고리즘 or 안다면 분류 알고리즘 "
      ]
    },
    {
      "cell_type": "markdown",
      "metadata": {
        "id": "yNm3nqhIfe1U"
      },
      "source": [
        "8. 스팸 감지의 문제는 지도 학습과 비지도 학습 중 어떤 문제로 볼 수 있나요?\r\n",
        "\r\n",
        "  -> 지도 학습 문제. 수많은 이메일과 이에 대한 레이블이 제공됨"
      ]
    },
    {
      "cell_type": "markdown",
      "metadata": {
        "id": "EH6pv6fBfesn"
      },
      "source": [
        "9. 온라인 학습 시스템이 무엇인가요?\r\n",
        "\r\n",
        "  -> 전진적으로 학습 가능.(미니 배치 사용)\r\n",
        "  <br> 학습 단계가 빠르고 비용이 적게 드는 시스템"
      ]
    },
    {
      "cell_type": "markdown",
      "metadata": {
        "id": "_7yJK6EXfehN"
      },
      "source": [
        "10. 외부 메모리 학습이 무엇인가요?\r\n",
        "\r\n",
        "  -> 컴퓨터 한대의 메인 메모리에 들어갈 수 없는 아주 큰 데이터셋을 학습하는 시스템\r\n",
        "  <br> 데이터를 미니배치로 나누고 온라인 학습 기법을 사용해 학습"
      ]
    },
    {
      "cell_type": "markdown",
      "metadata": {
        "id": "tGUvRZ4Df6L9"
      },
      "source": [
        "11. 예측을 하기 위해 유사도 측정에 의존하는 학습 알고리즘은 무엇인가요?\r\n",
        "\r\n",
        "  -> 사례 기반 학습 알고리즘"
      ]
    },
    {
      "cell_type": "markdown",
      "metadata": {
        "id": "it-NNBXKf6Gg"
      },
      "source": [
        "12. 모델 파라미터와 학습 알고리즘의 하이퍼파라미터 사이에는 어떤 차이가 있나요?\r\n",
        "\r\n",
        "  -> 모델 파라미터: 모델을 사용하기 전에 정의해야하는 파라미터(ex; 선형회귀 모델에서의 기울기 값과 bias값). 모델이 최상의 성능을 내도록 최적값을 찾아야 함\r\n",
        "  <br>-> 학습 알고리즘의 하이퍼파라미터: 학습 알고리즘으로부터 영향 X. 적용할 규제의 정도를 나타냄 "
      ]
    },
    {
      "cell_type": "markdown",
      "metadata": {
        "id": "Lh4LOQfrf6An"
      },
      "source": [
        "13. 모델 기반 알고리즘이 찾는 것은 무엇인가요? 성공을 위해 이 알고리즘이 사용하는 가장 일반적인 전략은 무엇인가요? 예측은 어떻게 만드나요?\r\n",
        "\r\n",
        "  -> 모델이 잘 일반화되기 위한 최적의 모델 파라미터 값을 찾는다. 비용 함수를 최소화함으로써 시스템을 훈련시킨다. 최적의 파라미터를 사용하는 모델에 새로운 데이터를 넣어 예측 값을 얻는다.ㄴ"
      ]
    },
    {
      "cell_type": "markdown",
      "metadata": {
        "id": "tNp1W0Jef57G"
      },
      "source": [
        "14. 머신러닝의 주요 도전 과제는 무엇인가요?\r\n",
        "\r\n",
        "-> 충분하지 않은 양의 훈련 데이터, 대표성 없는 훈련 데이터, 낮은 품질의 데이터, 관련 없는 특성, 훈련 데이터의 과대, 과소적함"
      ]
    },
    {
      "cell_type": "markdown",
      "metadata": {
        "id": "k4joaT0ef51c"
      },
      "source": [
        "15. 모델이 훈련 데이터에서의 성능은 좋지만 새로운 샘플에서의 일반화 성능이 나쁘다면 어떤 문제가 있는 건가요? 가능한 해결책 세가지는 무엇인가요?\r\n",
        "\r\n",
        "  -> 훈련 데이터에 과대적합 된 경우. \r\n",
        "\r\n",
        "  -> 더 많은 데이터를 모으거나, 훈련 데이터의 잡음을 줄이거나, 모델을 단순화"
      ]
    },
    {
      "cell_type": "markdown",
      "metadata": {
        "id": "DaDwvdgpf5u7"
      },
      "source": [
        "16. 테스트 세트가 무엇이고 왜 사용해야 하나요?\r\n",
        "\r\n",
        "  -> 모델을 평가하여 일반화 오차에 대한 추청 값을 얻음"
      ]
    },
    {
      "cell_type": "markdown",
      "metadata": {
        "id": "zvmrwOOtf5pN"
      },
      "source": [
        "17. 검증 세트의 목적은 무엇인가요?\r\n",
        "\r\n",
        "  -> 테스트 세트에 과대적합된 모델을 피하기 위해. 이를 사용해 가장 좋은 모델을 고르고 하이퍼파라미터 값 튜닝"
      ]
    },
    {
      "cell_type": "markdown",
      "metadata": {
        "id": "pdu64FFB6qUQ"
      },
      "source": [
        "18. 훈련-개발 세트가 무엇인가요? 언제 필요하고 어떻게 사용해야 하나요?\r\n",
        "  \r\n",
        "  -> 훈련 세트의 일부를 떼어내어 또 다른 세트를 만든 것\r\n",
        "\r\n",
        "  -> 검증, 테스트 세트에 사용되는 데이터와 훈련 세트 사이에 데이터 불일치 위험이 있을 때 사용\r\n",
        "\r\n",
        "  => 훈련-개발 세트랑 검증 세트랑 뭐가 다르지?\r\n"
      ]
    },
    {
      "cell_type": "markdown",
      "metadata": {
        "id": "rx_xuvkM6qJO"
      },
      "source": [
        "19. 테스트 세트를 사용해 하이퍼파라미터를 튜닝하면 어떤 문제가 생기나요?\r\n",
        "  \r\n",
        "  -> 테스트 세트에 과대적합될 위험이 있음"
      ]
    },
    {
      "cell_type": "markdown",
      "metadata": {
        "id": "zPDO-NqUOt4D"
      },
      "source": [
        "#예제 1-1"
      ]
    },
    {
      "cell_type": "code",
      "metadata": {
        "id": "5g2_ifCzfdzh"
      },
      "source": [
        "import sys\r\n",
        "assert sys.version_info >= (3, 5)"
      ],
      "execution_count": 1,
      "outputs": []
    },
    {
      "cell_type": "code",
      "metadata": {
        "id": "uiIcptugO2Zh"
      },
      "source": [
        "import sklearn\r\n",
        "assert sklearn.__version__ >= \"0.20\""
      ],
      "execution_count": 2,
      "outputs": []
    },
    {
      "cell_type": "code",
      "metadata": {
        "id": "Z7YyTTq2O6S9"
      },
      "source": [
        "def prepare_country_stats(oecd_bli, gdp_per_capita):\r\n",
        "\r\n",
        "    oecd_bli = oecd_bli[oecd_bli[\"INEQUALITY\"]==\"TOT\"]\r\n",
        "    oecd_bli = oecd_bli.pivot(index=\"Country\", columns=\"Indicator\", values=\"Value\")\r\n",
        "    gdp_per_capita.rename(columns={\"2015\": \"GDP per capita\"}, inplace=True)\r\n",
        "    gdp_per_capita.set_index(\"Country\", inplace=True)\r\n",
        "    full_country_stats = pd.merge(left=oecd_bli, right=gdp_per_capita,\r\n",
        "                                  left_index=True, right_index=True)\r\n",
        "    full_country_stats.sort_values(by=\"GDP per capita\", inplace=True)\r\n",
        "    remove_indices = [0, 1, 6, 8, 33, 34, 35]\r\n",
        "    keep_indices = list(set(range(36)) - set(remove_indices))\r\n",
        "    \r\n",
        "    return full_country_stats[[\"GDP per capita\", 'Life satisfaction']].iloc[keep_indices]"
      ],
      "execution_count": 14,
      "outputs": []
    },
    {
      "cell_type": "code",
      "metadata": {
        "id": "9q3T2eEGQbL-"
      },
      "source": [
        "import os\r\n",
        "datapath = os.path.join(\"datasets\", \"lifesat\", \"\")"
      ],
      "execution_count": 11,
      "outputs": []
    },
    {
      "cell_type": "code",
      "metadata": {
        "id": "_WOn2xxnQqmw"
      },
      "source": [
        "# 주피터에 그래프를 깔끔하게 그리기 위해서\r\n",
        "%matplotlib inline\r\n",
        "import matplotlib as mpl\r\n",
        "\r\n",
        "mpl.rc('axes', labelsize=14)\r\n",
        "mpl.rc('xtick', labelsize=12)\r\n",
        "mpl.rc('ytick', labelsize=12)"
      ],
      "execution_count": 16,
      "outputs": []
    },
    {
      "cell_type": "code",
      "metadata": {
        "colab": {
          "base_uri": "https://localhost:8080/"
        },
        "id": "D8oyGLcQQ3RJ",
        "outputId": "b197da68-948a-4b52-e75d-5b8d6a91c98d"
      },
      "source": [
        "# 데이터 다운로드\r\n",
        "import urllib.request\r\n",
        "\r\n",
        "DOWNLOAD_ROOT = \"https://raw.githubusercontent.com/rickiepark/handson-ml2/master/\"\r\n",
        "os.makedirs(datapath, exist_ok=True)\r\n",
        "\r\n",
        "for filename in (\"oecd_bli_2015.csv\", \"gdp_per_capita.csv\"):\r\n",
        "    print(\"Downloading\", filename)\r\n",
        "    url = DOWNLOAD_ROOT + \"datasets/lifesat/\" + filename\r\n",
        "    urllib.request.urlretrieve(url, datapath + filename)"
      ],
      "execution_count": 17,
      "outputs": [
        {
          "output_type": "stream",
          "text": [
            "Downloading oecd_bli_2015.csv\n",
            "Downloading gdp_per_capita.csv\n"
          ],
          "name": "stdout"
        }
      ]
    },
    {
      "cell_type": "code",
      "metadata": {
        "colab": {
          "base_uri": "https://localhost:8080/",
          "height": 35
        },
        "id": "nfP2gZofSdY8",
        "outputId": "fa7a930a-e725-471a-8cf6-b350bda16c15"
      },
      "source": [
        "datapath"
      ],
      "execution_count": 18,
      "outputs": [
        {
          "output_type": "execute_result",
          "data": {
            "application/vnd.google.colaboratory.intrinsic+json": {
              "type": "string"
            },
            "text/plain": [
              "'datasets/lifesat/'"
            ]
          },
          "metadata": {
            "tags": []
          },
          "execution_count": 18
        }
      ]
    },
    {
      "cell_type": "code",
      "metadata": {
        "id": "TYexb2XjRovr"
      },
      "source": [
        "import matplotlib.pyplot as plt\r\n",
        "import numpy as np\r\n",
        "import pandas as pd\r\n",
        "import sklearn.linear_model\r\n",
        "\r\n",
        "#데이터 적재\r\n",
        "oecd_bli = pd.read_csv(datapath + \"oecd_bli_2015.csv\", thousands=',')\r\n",
        "gdp_per_capita = pd.read_csv(datapath + 'gdp_per_capita.csv', thousands=',', delimiter='\\t',\r\n",
        "                             encodiing='latin1', na_values='n/a')\r\n",
        "\r\n",
        "#데이터 준비\r\n",
        "country_stats = prepare_country_stats(oecd_vli, gdp_per_capita)\r\n",
        "X = np.c_[country_stats[\"GDP per capita\"]]\r\n",
        "y = np.c_[country_stats[\"Life satisfaction\"]]\r\n",
        "\r\n",
        "#데이터 시각화\r\n"
      ],
      "execution_count": null,
      "outputs": []
    }
  ]
}